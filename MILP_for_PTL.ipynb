{
  "nbformat": 4,
  "nbformat_minor": 0,
  "metadata": {
    "colab": {
      "provenance": [],
      "authorship_tag": "ABX9TyOEmCDCe+OPQTE2yP/FrK0N",
      "include_colab_link": true
    },
    "kernelspec": {
      "name": "python3",
      "display_name": "Python 3"
    },
    "language_info": {
      "name": "python"
    }
  },
  "cells": [
    {
      "cell_type": "markdown",
      "metadata": {
        "id": "view-in-github",
        "colab_type": "text"
      },
      "source": [
        "<a href=\"https://colab.research.google.com/github/tanayd255/CFD/blob/main/MILP_for_PTL.ipynb\" target=\"_parent\"><img src=\"https://colab.research.google.com/assets/colab-badge.svg\" alt=\"Open In Colab\"/></a>"
      ]
    },
    {
      "cell_type": "code",
      "execution_count": 13,
      "metadata": {
        "colab": {
          "base_uri": "https://localhost:8080/",
          "height": 305
        },
        "id": "2Fe5FIpvzUdq",
        "outputId": "701881bf-b7aa-411c-e1a2-b1cc43aa775b"
      },
      "outputs": [
        {
          "output_type": "stream",
          "name": "stdout",
          "text": [
            "Requirement already satisfied: gurobipy in /usr/local/lib/python3.10/dist-packages (11.0.2)\n",
            "Set parameter WLSAccessID\n",
            "Set parameter WLSSecret\n",
            "Set parameter LicenseID to value 2528348\n",
            "Academic license 2528348 - for non-commercial use only - registered to ta___@mit.edu\n"
          ]
        },
        {
          "output_type": "error",
          "ename": "KeyError",
          "evalue": "0",
          "traceback": [
            "\u001b[0;31m---------------------------------------------------------------------------\u001b[0m",
            "\u001b[0;31mKeyError\u001b[0m                                  Traceback (most recent call last)",
            "\u001b[0;32m<ipython-input-13-5aae8090cdae>\u001b[0m in \u001b[0;36m<cell line: 67>\u001b[0;34m()\u001b[0m\n\u001b[1;32m     68\u001b[0m   \u001b[0;32mfor\u001b[0m \u001b[0mi\u001b[0m \u001b[0;32min\u001b[0m \u001b[0mrange\u001b[0m\u001b[0;34m(\u001b[0m\u001b[0;36m1\u001b[0m\u001b[0;34m,\u001b[0m \u001b[0;36m8\u001b[0m\u001b[0;34m)\u001b[0m\u001b[0;34m:\u001b[0m\u001b[0;34m\u001b[0m\u001b[0;34m\u001b[0m\u001b[0m\n\u001b[1;32m     69\u001b[0m     \u001b[0;32mfor\u001b[0m \u001b[0mj\u001b[0m \u001b[0;32min\u001b[0m \u001b[0mrange\u001b[0m \u001b[0;34m(\u001b[0m\u001b[0;36m1\u001b[0m\u001b[0;34m,\u001b[0m\u001b[0;36m8\u001b[0m\u001b[0;34m)\u001b[0m\u001b[0;34m:\u001b[0m\u001b[0;34m\u001b[0m\u001b[0;34m\u001b[0m\u001b[0m\n\u001b[0;32m---> 70\u001b[0;31m       \u001b[0mmodel\u001b[0m\u001b[0;34m.\u001b[0m\u001b[0maddConstr\u001b[0m\u001b[0;34m(\u001b[0m\u001b[0mx\u001b[0m\u001b[0;34m[\u001b[0m\u001b[0mk\u001b[0m\u001b[0;34m,\u001b[0m\u001b[0mi\u001b[0m\u001b[0;34m,\u001b[0m\u001b[0mj\u001b[0m\u001b[0;34m]\u001b[0m \u001b[0;34m<=\u001b[0m \u001b[0mx\u001b[0m\u001b[0;34m[\u001b[0m\u001b[0mk\u001b[0m\u001b[0;34m]\u001b[0m\u001b[0;34m.\u001b[0m\u001b[0msum\u001b[0m\u001b[0;34m(\u001b[0m\u001b[0maxis\u001b[0m\u001b[0;34m=\u001b[0m\u001b[0;36m0\u001b[0m\u001b[0;34m)\u001b[0m\u001b[0;34m[\u001b[0m\u001b[0mi\u001b[0m\u001b[0;34m]\u001b[0m\u001b[0;34m)\u001b[0m\u001b[0;34m\u001b[0m\u001b[0;34m\u001b[0m\u001b[0m\n\u001b[0m\u001b[1;32m     71\u001b[0m \u001b[0;34m\u001b[0m\u001b[0m\n\u001b[1;32m     72\u001b[0m \u001b[0;34m\u001b[0m\u001b[0m\n",
            "\u001b[0;31mKeyError\u001b[0m: 0"
          ]
        }
      ],
      "source": [
        "!pip install gurobipy\n",
        "import gurobipy as gp\n",
        "\n",
        "params = {\n",
        "    \"WLSACCESSID\": \"d137fee5-0ca0-4c4a-9978-49f9ebf182e6\",\n",
        "    \"WLSSECRET\": \"fd781dd4-faec-45c8-98fc-649860cbd274\",\n",
        "    \"LICENSEID\": 2528348,\n",
        "}\n",
        "env = gp.Env(params=params)\n",
        "model= gp.Model(env=env)\n",
        "\n",
        "import numpy as np\n",
        "import matplotlib as plt\n",
        "import scipy as sp\n",
        "import pandas as pd\n",
        "\n",
        "from gurobipy import GRB\n",
        "\n",
        "#s is the matrix of the distances between any two nodes on the graph. First row & column (index 0) are measured from the DC\n",
        "s = [[0.0,60.12,62.48,64.81,106.91,74.37,86.4,69.21],[60.12,0.0,13.91,4.76,52.14,15.62,29.3,9.34],[62.48,13.91,0.0,15.25,60.72,24.75,37.97,18.19],[64.81,4.76,15.25,0.0,47.87,11.14,24.93,4.6],[106.91,52.14,60.72,47.87,0.0,36.77,22.98,43.56],[74.37,15.62,24.75,11.14,36.77,0.0,13.8,6.82],[86.4,29.3,37.97,24.93,22.98,13.8,0.0,20.57],[69.21,9.34,18.19,4.6,43.56,6.82,20.57,0.0]]\n",
        "\n",
        "#DMax is the carrying capacities of the 3 vehicle types in cbm\n",
        "DMax = [3.0,6.0,15.0]\n",
        "\n",
        "#c is the matrix of converting each distance to currency (e.g.- PHP) based on the vehicle type deployed between those two nodes.\n",
        "c = [10.0,15.0,35.0]\n",
        "\n",
        "#cnew is the cost of deploying any new vehicle\n",
        "cnew = 2000.0\n",
        "\n",
        "#d is the demand per node of the graph\n",
        "d = [0,10,10,10,10,10,10,10]\n",
        "\n",
        "#M is the max number of nodes allowed on one ride of one vehicle\n",
        "M = 2.0\n",
        "\n",
        "#L is the max distance which any vehicle can cover in a single ride (i.e. in one day) due to urban traffic congestion\n",
        "L = 120.0\n",
        "\n",
        "# x[k][i][j] defines whether a vehicle of the kth type traversed between nodes i & j.\n",
        "#The first index/ axis (sheets before rows & columns) is the index for vehicle type.\n",
        "x = model.addVars(3,8,8,vtype = GRB.BINARY,name='x')\n",
        "\n",
        "#Need y to multiply x matrix with distances\n",
        "y = model.addVars(3,8,8)\n",
        "\n",
        "#Need z to multiply y with cost per distance as per each vehicle type\n",
        "z = model.addVars(3,8,8)\n",
        "\n",
        "#v is the number of vehicles of each type used, here there are 3 types of vehicles\n",
        "v = model.addVars(3,vtype=GRB.BINARY,name='v')\n",
        "\n",
        "#Need w to multiply the column-wise sum of x by demand to get total demand carried by a vehicle\n",
        "w = model.addVars(3,8)\n",
        "\n",
        "#Need u to sum the total number of times a node has been accessed\n",
        "u = model.addVars(8)\n",
        "\n",
        "#No ride from the same node to same node and no ride to the DC\n",
        "for k in range(3):\n",
        "  for i in range(8):\n",
        "    model.addConstr(x[k,i,i] == 0)\n",
        "    model.addConstr(x[k,i,0] == 0)\n",
        "\n",
        "\n",
        "#For any edge, a vehicle of type-k can traverse iff a vehicle of the same type has reached\n",
        "for k in range(3):\n",
        "  for i in range(1, 8):\n",
        "    for j in range (1,8):\n",
        "      model.addConstr(x[k,i,j] <= x[k].sum(k,\"*\",i))\n",
        "\n",
        "\n",
        "#For all nodes which are not 0 (i.e. the DC), the total indexes incoming are 1, so that 1 vehicle of a certain type from 1 node visits this node\n",
        "#Receiving is defined with columns, i.e. the 3rd axis for any node.\n",
        "model.addConstr((x.sum(axis=0)).sum(axis=0) == u)\n",
        "\n",
        "for j in range(1,8):\n",
        "  model.addConstr(u[j] == 1)\n",
        "\n",
        "#Number of vehicles of a particular type OUT from the DC = Number of vehicles of that type IN the graph\n",
        "for k in range(3):\n",
        "  model.addConstr(x[k].sum(axis=1)[0] == v[k])\n",
        "\n",
        "\n",
        "#Sum of columns in any sheet (i.e. vehicle type) gives which nodes it's servicing. This multiplied by the demand weight of that node, gives the total weight that vehicle is carrying.\n",
        "#The total weight is summed per vehicle type and compared to the vehicle's carrying capacity\n",
        "for k in range(3):\n",
        "  model.addConstr(x[k].sum(axis=0) *d[j] == w[k])\n",
        "\n",
        "for k in range(3):\n",
        "    model.addConstr(w[k].sum <= v[k] * DMax[k])\n",
        "\n",
        "\n",
        "#The total distance travelled by any vehicle is less than the max permissible distance\n",
        "for k in range(3):\n",
        "  for i in range(8):\n",
        "    for j in range(8):\n",
        "      model.addConstr(x[k,i,j].item() * s[i,j] == y[k,i,j])\n",
        "\n",
        "for k in range(3):\n",
        "  model.addConstr(y.sum(axis=(1,2)) <= v[k] * L)\n",
        "\n",
        "\n",
        "#Constrain the number of drops executed by a vehicle type\n",
        "for k in range(3):\n",
        "  model.addConstr(x[k].sum <= v[k] * M)\n",
        "\n",
        "\n",
        "#Define costs\n",
        "for k in range(3):\n",
        "  for i in range(8):\n",
        "    for j in range(8):\n",
        "      model.addConstr(y[k,i,j] * c[k] == z[k,i,j])\n",
        "\n",
        "\n",
        "model.setObjective(z.sum + cnew * x.sum, GRB.MINIMIZE)\n",
        "\n",
        "model.Optimize()\n"
      ]
    },
    {
      "cell_type": "code",
      "source": [
        "import numpy as np\n",
        "\n",
        "xdash = np.array([[[2,2],[2,2]],[[2,2],[5,5]],[[3,3],[2,2]]])\n",
        "vdash = np.array([0,0,0])\n",
        "\n",
        "np.sum(xdash[1])"
      ],
      "metadata": {
        "colab": {
          "base_uri": "https://localhost:8080/"
        },
        "id": "9a762bJaJMpr",
        "outputId": "23981b40-bb30-4cbc-a1b3-caa94f5e1892"
      },
      "execution_count": 12,
      "outputs": [
        {
          "output_type": "execute_result",
          "data": {
            "text/plain": [
              "14"
            ]
          },
          "metadata": {},
          "execution_count": 12
        }
      ]
    }
  ]
}